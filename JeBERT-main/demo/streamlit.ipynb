{
  "nbformat": 4,
  "nbformat_minor": 0,
  "metadata": {
    "colab": {
      "name": "streamlit_colab_ko_je (1).ipynb",
      "provenance": [],
      "collapsed_sections": []
    },
    "kernelspec": {
      "name": "python3",
      "display_name": "Python 3"
    },
    "language_info": {
      "name": "python"
    },
    "accelerator": "GPU"
  },
  "cells": [
    {
      "cell_type": "code",
      "source": [
        "from google.colab import drive\n",
        "drive.mount('/content/drive')"
      ],
      "metadata": {
        "id": "HIW-_tWQnEbU",
        "colab": {
          "base_uri": "https://localhost:8080/"
        },
        "outputId": "37d532cf-10e7-4aa5-a058-c70a1a965e99"
      },
      "execution_count": null,
      "outputs": [
        {
          "output_type": "stream",
          "name": "stdout",
          "text": [
            "Mounted at /content/drive\n"
          ]
        }
      ]
    },
    {
      "cell_type": "code",
      "source": [
        "import os"
      ],
      "metadata": {
        "id": "IITMKB2FnEWH"
      },
      "execution_count": null,
      "outputs": []
    },
    {
      "cell_type": "code",
      "source": [
        "os.chdir(\"/content/drive/MyDrive/project3/\")\n",
        "print(os.getcwd())"
      ],
      "metadata": {
        "colab": {
          "base_uri": "https://localhost:8080/"
        },
        "id": "SyWTewnRnKe3",
        "outputId": "00de11be-f00f-4927-e467-f9376289380c"
      },
      "execution_count": null,
      "outputs": [
        {
          "output_type": "stream",
          "name": "stdout",
          "text": [
            "/content/drive/.shortcut-targets-by-id/1t6fCFtjxgVFlyqnGVhsC08YLTRnfqtVj/project3\n"
          ]
        }
      ]
    },
    {
      "cell_type": "markdown",
      "source": [
        "# Install"
      ],
      "metadata": {
        "id": "tYj9F3QFDYCE"
      }
    },
    {
      "cell_type": "code",
      "source": [
        "!pip install streamlit"
      ],
      "metadata": {
        "id": "H4A5CwMKq96-"
      },
      "execution_count": null,
      "outputs": []
    },
    {
      "cell_type": "code",
      "source": [
        "!pip install pyngrok"
      ],
      "metadata": {
        "id": "CM3dQY4doAa7"
      },
      "execution_count": null,
      "outputs": []
    },
    {
      "cell_type": "code",
      "source": [
        "!pip install transformers"
      ],
      "metadata": {
        "id": "sGmOUEJANyDP"
      },
      "execution_count": null,
      "outputs": []
    },
    {
      "cell_type": "code",
      "source": [
        "!pip install sentencepiece"
      ],
      "metadata": {
        "id": "VZEe_Xk_xRZ6"
      },
      "execution_count": null,
      "outputs": []
    },
    {
      "cell_type": "markdown",
      "source": [
        "# Streamlit py file"
      ],
      "metadata": {
        "id": "w1h5TojyDkYN"
      }
    },
    {
      "cell_type": "code",
      "source": [
        "%%writefile app4.py\n",
        "import torch\n",
        "import streamlit as st\n",
        "import pandas as pd\n",
        "\n",
        "\n",
        "from transformers import (\n",
        "    EncoderDecoderModel,\n",
        "    BertTokenizer,\n",
        ")\n",
        "\n",
        "import sentencepiece as spm\n",
        "\n",
        "device = torch.device('cuda' if torch.cuda.is_available() else 'cpu')\n",
        "#from lib.tokenization_kobert import KoBertTokenizer\n",
        "\n",
        "if 'tokenizer' not in st.session_state:\n",
        "    #src_tokenizer = KoBertTokenizer.from_pretrained('monologg/kobert')\n",
        "    #trg_tokenizer = GPT2Tokenizer.from_pretrained('distilgpt2')\n",
        "    tokenizer = BertTokenizer('/content/drive/MyDrive/project3/dump/wpm-vocab-extend-30522.txt', do_lower_case=False)\n",
        "    st.session_state.tokenizer = tokenizer\n",
        "else:\n",
        "    tokenizer = st.session_state.tokenizer\n",
        "\n",
        "@st.cache\n",
        "def get_model(bos_token_id = None):\n",
        "    model = EncoderDecoderModel.from_pretrained('/content/drive/MyDrive/project3/dump/models/best_model(final_jeko)').to(device)\n",
        "    #model.config.decoder_start_token_id = bos_token_id\n",
        "    model.eval()\n",
        "    #model.cuda()\n",
        "\n",
        "    return model\n",
        "\n",
        "@st.cache\n",
        "def get_model2(bos_token_id = None):\n",
        "    model = EncoderDecoderModel.from_pretrained('/content/drive/MyDrive/project3/dump/models/best_model(final_koje)').to(device)\n",
        "    #model.config.decoder_start_token_id = bos_token_id\n",
        "    model.eval()\n",
        "    #model.cuda()\n",
        "\n",
        "    return model\n",
        "\n",
        "\n",
        "model = get_model(tokenizer.bos_token_id)\n",
        "model2 = get_model2(tokenizer.bos_token_id)\n",
        "\n",
        "# 페이지 구성\n",
        "st.title(\"한국 표준어-제주도 방언 번역기\")\n",
        "st.subheader(\"한-제 번역기에 오신 것을 환영합니다!\")\n",
        "\n",
        "# 왼쪽에 사이드바 추가\n",
        "add_selectbox = st.sidebar.selectbox(\"번역 방향을 선택해주세요!\", \n",
        "                                     ('제주도 방언->표준어','표준어->제주도 방언')) \n",
        "# 선택 박스 만들기\n",
        "#lan_option = st.selectbox('번역 방향을 선택해주세요!',\n",
        "#                          ('제주도 방언->표준어','표준어->제주도 방언'))\n",
        "st.sidebar.write(\"선택된 방향은 \", add_selectbox)\n",
        "\n",
        "\n",
        "# 레이아웃\n",
        "col1, col2 = st.columns(2)\n",
        "\n",
        "with col1:\n",
        "    st.subheader('제주도 방언-표준어 예시')\n",
        "    df = {'제주도 방언':['혼저옵서예','빙애기','그것ᄀᆞ란 저 거세기 , 정지 .','예 . 그거 좀 ᄀᆞᆯ아 줍서 . 헛불 .','어디 갔단 왐수과?','놀당 갑서','어드레 감디?'],\n",
        "      '표준어': ['어서오세요','병아리','그것보고 저 거시기 , 부엌.','예 . 그거 좀 얘기해 주십시오 . 헛불 .','어디 갔다 오십니까?','놀다가 가세요','어디 가세요?']}\n",
        "    df = pd.DataFrame(df)\n",
        "    st.table(df)\n",
        "\n",
        "with col2:\n",
        "\n",
        "    # 번역기\n",
        "    st.subheader(add_selectbox)\n",
        "    if add_selectbox == '제주도 방언->표준어':\n",
        "        kor = st.text_area(\"제주도 방언\", placeholder=\"번역할 제주도 방언을 넣어주세요.\")\n",
        "\n",
        "        if st.button(\"번역!\", help=\"해당 제주도 방언을 번역합니다.\"):\n",
        "            embeddings = tokenizer(kor, return_attention_mask=False, return_token_type_ids=False, return_tensors='pt')\n",
        "            embeddings = {k: v.cuda() for k, v in embeddings.items()}\n",
        "            output = model.generate(**embeddings, max_length = 256, eos_token_id=3)[0, 1:-1]\n",
        "            st.text_area(\"표준어\", value=tokenizer.decode(output[1:]), disabled=True)\n",
        "    else:\n",
        "        je = st.text_area('표준어', placeholder = '번역할 표준어를 넣어주세요.')\n",
        "\n",
        "        if st.button('번역!', help = '해당 표준어를 번역합니다.'):\n",
        "            embeddings = tokenizer(je, return_attention_mask = False, return_token_type_ids = False, return_tensors = 'pt')\n",
        "            embeddings = {k:v.cuda() for k,v in embeddings.items()}\n",
        "            output = model2.generate(**embeddings, max_length = 256, eos_token_id=3)[0, 1:-1]\n",
        "            st.text_area('제주도 방언', value = tokenizer.decode(output[1:]), disabled = True)\n",
        "\n"
      ],
      "metadata": {
        "colab": {
          "base_uri": "https://localhost:8080/"
        },
        "id": "brGZB84Oog0X",
        "outputId": "1fd75357-9a0d-409f-808f-d8eafe411976"
      },
      "execution_count": null,
      "outputs": [
        {
          "output_type": "stream",
          "name": "stdout",
          "text": [
            "Overwriting app4.py\n"
          ]
        }
      ]
    },
    {
      "cell_type": "code",
      "source": [
        "!ls"
      ],
      "metadata": {
        "id": "Xk5Sc3torcDl"
      },
      "execution_count": null,
      "outputs": []
    },
    {
      "cell_type": "code",
      "source": [
        "!ngrok authtoken # private token"
      ],
      "metadata": {
        "id": "IISfxgOmrlMu"
      },
      "execution_count": null,
      "outputs": []
    },
    {
      "cell_type": "code",
      "source": [
        "!ngrok"
      ],
      "metadata": {
        "id": "H9KKjRqJr6Bj"
      },
      "execution_count": null,
      "outputs": []
    },
    {
      "cell_type": "markdown",
      "source": [
        "# streamlit 실행"
      ],
      "metadata": {
        "id": "DleUKqMvDsi5"
      }
    },
    {
      "cell_type": "code",
      "source": [
        "from pyngrok import ngrok"
      ],
      "metadata": {
        "id": "Xc1-vbXhr5xX"
      },
      "execution_count": null,
      "outputs": []
    },
    {
      "cell_type": "code",
      "source": [
        "!streamlit run app4.py&>/dev/null&"
      ],
      "metadata": {
        "id": "edcRJ4AEsUVI"
      },
      "execution_count": null,
      "outputs": []
    },
    {
      "cell_type": "code",
      "source": [
        "!pgrep streamlit"
      ],
      "metadata": {
        "colab": {
          "base_uri": "https://localhost:8080/"
        },
        "id": "MiYJ7rYTszoW",
        "outputId": "bb9338b0-bcb2-4238-f9e4-296a2e3ceef3"
      },
      "execution_count": null,
      "outputs": [
        {
          "output_type": "stream",
          "name": "stdout",
          "text": [
            "791\n"
          ]
        }
      ]
    },
    {
      "cell_type": "code",
      "source": [
        "publ_url = ngrok.connect(addr = '8501')"
      ],
      "metadata": {
        "id": "pMkLd5pDsBts"
      },
      "execution_count": null,
      "outputs": []
    },
    {
      "cell_type": "code",
      "source": [
        "publ_url"
      ],
      "metadata": {
        "colab": {
          "base_uri": "https://localhost:8080/"
        },
        "id": "cjqc1Wnws429",
        "outputId": "578b93dc-ab95-42ce-a4be-9ba1175d1a09"
      },
      "execution_count": null,
      "outputs": [
        {
          "output_type": "execute_result",
          "data": {
            "text/plain": [
              "<NgrokTunnel: \"http://804c-35-204-186-228.ngrok.io\" -> \"http://localhost:8501\">"
            ]
          },
          "metadata": {},
          "execution_count": 25
        }
      ]
    },
    {
      "cell_type": "markdown",
      "source": [
        "# Streamlit 차단"
      ],
      "metadata": {
        "id": "CiWc8bTNDv7-"
      }
    },
    {
      "cell_type": "code",
      "source": [
        "!pgrep streamlit"
      ],
      "metadata": {
        "id": "DFYB_3_Lhkgg"
      },
      "execution_count": null,
      "outputs": []
    },
    {
      "cell_type": "code",
      "source": [
        "!kill 791"
      ],
      "metadata": {
        "id": "Mr0zrK1Jhqsc"
      },
      "execution_count": null,
      "outputs": []
    },
    {
      "cell_type": "code",
      "source": [
        "ngrok.kill()"
      ],
      "metadata": {
        "id": "roox6c0viNXW"
      },
      "execution_count": null,
      "outputs": []
    }
  ]
}
