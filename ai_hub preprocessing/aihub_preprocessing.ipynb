{
  "cells": [
    {
      "cell_type": "code",
      "source": [
        "from google.colab import drive\n",
        "drive.mount('/content/drive')"
      ],
      "metadata": {
        "colab": {
          "base_uri": "https://localhost:8080/"
        },
        "id": "Ksdcpk0WrurK",
        "outputId": "ecc9f439-3046-402a-8081-dbea517a125e"
      },
      "id": "Ksdcpk0WrurK",
      "execution_count": 1,
      "outputs": [
        {
          "output_type": "stream",
          "name": "stdout",
          "text": [
            "Mounted at /content/drive\n"
          ]
        }
      ]
    },
    {
      "cell_type": "code",
      "execution_count": 16,
      "id": "1229e80f",
      "metadata": {
        "id": "1229e80f"
      },
      "outputs": [],
      "source": [
        "import pandas as pd\n",
        "from tqdm import tqdm\n",
        "import json\n",
        "import re\n",
        "\n",
        "train = pd.read_csv(\"/content/drive/MyDrive/project3/한국어 방언 발화(제주도)/Training/jeju_train.csv\", encoding = \"utf-8\", index_col = 0)\n",
        "validation = pd.read_csv(\"/content/drive/MyDrive/project3/한국어 방언 발화(제주도)/Validation/jeju_valid.csv\", encoding = \"utf-8\", index_col = 0)"
      ]
    },
    {
      "cell_type": "code",
      "execution_count": 17,
      "id": "111ba299",
      "metadata": {
        "id": "111ba299"
      },
      "outputs": [],
      "source": [
        "# 1) 중복 제거\n",
        "train = train.drop_duplicates()\n",
        "validation = validation.drop_duplicates()"
      ]
    },
    {
      "cell_type": "code",
      "execution_count": 18,
      "id": "3f56d7a6",
      "metadata": {
        "id": "3f56d7a6",
        "colab": {
          "base_uri": "https://localhost:8080/",
          "height": 424
        },
        "outputId": "fb9d1a96-2c7c-46ff-ef86-c2428431fccf"
      },
      "outputs": [
        {
          "output_type": "execute_result",
          "data": {
            "text/plain": [
              "                                    standard  \\\n",
              "0                             저는 &name1&입니다.   \n",
              "1                             저는 &name2&입니다.   \n",
              "2                   오늘 주제가 아까 뭐 자동차나 오토바이였는데   \n",
              "3                              &name1&씨 오토바이   \n",
              "4                         뭐 어떻게 좀 몰아봤어요? 아니면   \n",
              "...                                      ...   \n",
              "2774246                                응 그럴까   \n",
              "2774247  응 자 이 후에도 제주어에 관심을 많이 가져서 잘 지키자 그러면   \n",
              "2774248                                  쭉 만   \n",
              "2774249  쭉이 중간에 들어가버려서 어색한거 저쪽에 갔으면 괜찮을거 같은데   \n",
              "2774250               이후에도 쭉 제주어에 관심을 많이 가져서   \n",
              "\n",
              "                                     dialect  \n",
              "0                             저는 &name1&입니다.  \n",
              "1                             저는 &name2&입니다.  \n",
              "2                   오늘 주제가 아까 뭐 자동차나 오토바이였는데  \n",
              "3                              &name1&씨 오토바이  \n",
              "4                          뭐 어떵 좀 몰아봐수과? 아니면  \n",
              "...                                      ...  \n",
              "2774246                                응 그럴까  \n",
              "2774247  응 자 일 후제에도 제주어에 관심을 하영 가졍 잘 직호게이 게민  \n",
              "2774248                                  쭉 만  \n",
              "2774249   쭉이 중간에 들어가부난 어색한거 저쪽에 가시믄 괜찮을거 같은데  \n",
              "2774250               일후제에도 쭉 제주어에 관심을 하영 가졍  \n",
              "\n",
              "[2398362 rows x 2 columns]"
            ],
            "text/html": [
              "\n",
              "  <div id=\"df-afa39f48-ce9b-4dc7-94be-e9b1d35aba26\">\n",
              "    <div class=\"colab-df-container\">\n",
              "      <div>\n",
              "<style scoped>\n",
              "    .dataframe tbody tr th:only-of-type {\n",
              "        vertical-align: middle;\n",
              "    }\n",
              "\n",
              "    .dataframe tbody tr th {\n",
              "        vertical-align: top;\n",
              "    }\n",
              "\n",
              "    .dataframe thead th {\n",
              "        text-align: right;\n",
              "    }\n",
              "</style>\n",
              "<table border=\"1\" class=\"dataframe\">\n",
              "  <thead>\n",
              "    <tr style=\"text-align: right;\">\n",
              "      <th></th>\n",
              "      <th>standard</th>\n",
              "      <th>dialect</th>\n",
              "    </tr>\n",
              "  </thead>\n",
              "  <tbody>\n",
              "    <tr>\n",
              "      <th>0</th>\n",
              "      <td>저는 &amp;name1&amp;입니다.</td>\n",
              "      <td>저는 &amp;name1&amp;입니다.</td>\n",
              "    </tr>\n",
              "    <tr>\n",
              "      <th>1</th>\n",
              "      <td>저는 &amp;name2&amp;입니다.</td>\n",
              "      <td>저는 &amp;name2&amp;입니다.</td>\n",
              "    </tr>\n",
              "    <tr>\n",
              "      <th>2</th>\n",
              "      <td>오늘 주제가 아까 뭐 자동차나 오토바이였는데</td>\n",
              "      <td>오늘 주제가 아까 뭐 자동차나 오토바이였는데</td>\n",
              "    </tr>\n",
              "    <tr>\n",
              "      <th>3</th>\n",
              "      <td>&amp;name1&amp;씨 오토바이</td>\n",
              "      <td>&amp;name1&amp;씨 오토바이</td>\n",
              "    </tr>\n",
              "    <tr>\n",
              "      <th>4</th>\n",
              "      <td>뭐 어떻게 좀 몰아봤어요? 아니면</td>\n",
              "      <td>뭐 어떵 좀 몰아봐수과? 아니면</td>\n",
              "    </tr>\n",
              "    <tr>\n",
              "      <th>...</th>\n",
              "      <td>...</td>\n",
              "      <td>...</td>\n",
              "    </tr>\n",
              "    <tr>\n",
              "      <th>2774246</th>\n",
              "      <td>응 그럴까</td>\n",
              "      <td>응 그럴까</td>\n",
              "    </tr>\n",
              "    <tr>\n",
              "      <th>2774247</th>\n",
              "      <td>응 자 이 후에도 제주어에 관심을 많이 가져서 잘 지키자 그러면</td>\n",
              "      <td>응 자 일 후제에도 제주어에 관심을 하영 가졍 잘 직호게이 게민</td>\n",
              "    </tr>\n",
              "    <tr>\n",
              "      <th>2774248</th>\n",
              "      <td>쭉 만</td>\n",
              "      <td>쭉 만</td>\n",
              "    </tr>\n",
              "    <tr>\n",
              "      <th>2774249</th>\n",
              "      <td>쭉이 중간에 들어가버려서 어색한거 저쪽에 갔으면 괜찮을거 같은데</td>\n",
              "      <td>쭉이 중간에 들어가부난 어색한거 저쪽에 가시믄 괜찮을거 같은데</td>\n",
              "    </tr>\n",
              "    <tr>\n",
              "      <th>2774250</th>\n",
              "      <td>이후에도 쭉 제주어에 관심을 많이 가져서</td>\n",
              "      <td>일후제에도 쭉 제주어에 관심을 하영 가졍</td>\n",
              "    </tr>\n",
              "  </tbody>\n",
              "</table>\n",
              "<p>2398362 rows × 2 columns</p>\n",
              "</div>\n",
              "      <button class=\"colab-df-convert\" onclick=\"convertToInteractive('df-afa39f48-ce9b-4dc7-94be-e9b1d35aba26')\"\n",
              "              title=\"Convert this dataframe to an interactive table.\"\n",
              "              style=\"display:none;\">\n",
              "        \n",
              "  <svg xmlns=\"http://www.w3.org/2000/svg\" height=\"24px\"viewBox=\"0 0 24 24\"\n",
              "       width=\"24px\">\n",
              "    <path d=\"M0 0h24v24H0V0z\" fill=\"none\"/>\n",
              "    <path d=\"M18.56 5.44l.94 2.06.94-2.06 2.06-.94-2.06-.94-.94-2.06-.94 2.06-2.06.94zm-11 1L8.5 8.5l.94-2.06 2.06-.94-2.06-.94L8.5 2.5l-.94 2.06-2.06.94zm10 10l.94 2.06.94-2.06 2.06-.94-2.06-.94-.94-2.06-.94 2.06-2.06.94z\"/><path d=\"M17.41 7.96l-1.37-1.37c-.4-.4-.92-.59-1.43-.59-.52 0-1.04.2-1.43.59L10.3 9.45l-7.72 7.72c-.78.78-.78 2.05 0 2.83L4 21.41c.39.39.9.59 1.41.59.51 0 1.02-.2 1.41-.59l7.78-7.78 2.81-2.81c.8-.78.8-2.07 0-2.86zM5.41 20L4 18.59l7.72-7.72 1.47 1.35L5.41 20z\"/>\n",
              "  </svg>\n",
              "      </button>\n",
              "      \n",
              "  <style>\n",
              "    .colab-df-container {\n",
              "      display:flex;\n",
              "      flex-wrap:wrap;\n",
              "      gap: 12px;\n",
              "    }\n",
              "\n",
              "    .colab-df-convert {\n",
              "      background-color: #E8F0FE;\n",
              "      border: none;\n",
              "      border-radius: 50%;\n",
              "      cursor: pointer;\n",
              "      display: none;\n",
              "      fill: #1967D2;\n",
              "      height: 32px;\n",
              "      padding: 0 0 0 0;\n",
              "      width: 32px;\n",
              "    }\n",
              "\n",
              "    .colab-df-convert:hover {\n",
              "      background-color: #E2EBFA;\n",
              "      box-shadow: 0px 1px 2px rgba(60, 64, 67, 0.3), 0px 1px 3px 1px rgba(60, 64, 67, 0.15);\n",
              "      fill: #174EA6;\n",
              "    }\n",
              "\n",
              "    [theme=dark] .colab-df-convert {\n",
              "      background-color: #3B4455;\n",
              "      fill: #D2E3FC;\n",
              "    }\n",
              "\n",
              "    [theme=dark] .colab-df-convert:hover {\n",
              "      background-color: #434B5C;\n",
              "      box-shadow: 0px 1px 3px 1px rgba(0, 0, 0, 0.15);\n",
              "      filter: drop-shadow(0px 1px 2px rgba(0, 0, 0, 0.3));\n",
              "      fill: #FFFFFF;\n",
              "    }\n",
              "  </style>\n",
              "\n",
              "      <script>\n",
              "        const buttonEl =\n",
              "          document.querySelector('#df-afa39f48-ce9b-4dc7-94be-e9b1d35aba26 button.colab-df-convert');\n",
              "        buttonEl.style.display =\n",
              "          google.colab.kernel.accessAllowed ? 'block' : 'none';\n",
              "\n",
              "        async function convertToInteractive(key) {\n",
              "          const element = document.querySelector('#df-afa39f48-ce9b-4dc7-94be-e9b1d35aba26');\n",
              "          const dataTable =\n",
              "            await google.colab.kernel.invokeFunction('convertToInteractive',\n",
              "                                                     [key], {});\n",
              "          if (!dataTable) return;\n",
              "\n",
              "          const docLinkHtml = 'Like what you see? Visit the ' +\n",
              "            '<a target=\"_blank\" href=https://colab.research.google.com/notebooks/data_table.ipynb>data table notebook</a>'\n",
              "            + ' to learn more about interactive tables.';\n",
              "          element.innerHTML = '';\n",
              "          dataTable['output_type'] = 'display_data';\n",
              "          await google.colab.output.renderOutput(dataTable, element);\n",
              "          const docLink = document.createElement('div');\n",
              "          docLink.innerHTML = docLinkHtml;\n",
              "          element.appendChild(docLink);\n",
              "        }\n",
              "      </script>\n",
              "    </div>\n",
              "  </div>\n",
              "  "
            ]
          },
          "metadata": {},
          "execution_count": 18
        }
      ],
      "source": [
        "train[:-5]"
      ]
    },
    {
      "cell_type": "code",
      "execution_count": 19,
      "id": "4e748bda",
      "metadata": {
        "id": "4e748bda",
        "colab": {
          "base_uri": "https://localhost:8080/"
        },
        "outputId": "f8895074-b27e-4d2a-8bc5-5afde05e7413"
      },
      "outputs": [
        {
          "output_type": "execute_result",
          "data": {
            "text/plain": [
              "Index(['standard', 'dialect'], dtype='object')"
            ]
          },
          "metadata": {},
          "execution_count": 19
        }
      ],
      "source": [
        "train.columns"
      ]
    },
    {
      "cell_type": "code",
      "execution_count": 20,
      "id": "02c8a147",
      "metadata": {
        "id": "02c8a147",
        "colab": {
          "base_uri": "https://localhost:8080/"
        },
        "outputId": "afd43aac-2660-4f19-f483-e893de5ff505"
      },
      "outputs": [
        {
          "output_type": "execute_result",
          "data": {
            "text/plain": [
              "2"
            ]
          },
          "metadata": {},
          "execution_count": 20
        }
      ],
      "source": [
        "len(train.columns)"
      ]
    },
    {
      "cell_type": "code",
      "execution_count": 21,
      "id": "1bc3e0d5",
      "metadata": {
        "id": "1bc3e0d5",
        "colab": {
          "base_uri": "https://localhost:8080/"
        },
        "outputId": "793aeba4-d505-4bd6-e401-94c2f696e4d9"
      },
      "outputs": [
        {
          "output_type": "stream",
          "name": "stderr",
          "text": [
            "100%|██████████| 2398367/2398367 [00:07<00:00, 324126.48it/s]\n"
          ]
        }
      ],
      "source": [
        "# 2) &name&, &address&를 일괄적으로 변환\n",
        "# training set 전처리\n",
        "train_stan_new = []\n",
        "for standard in tqdm(train[\"standard\"]):\n",
        "    new_sen = re.sub(\"\\&name\\d*\\&\",\"{이름}\",str(standard)) # &name&을 {이름}으로 바꾸기\n",
        "    new_sen = re.sub(\"\\&address\\d*\\&\",\"{주소}\", new_sen) # &address&을 {주소}로 바꾸기\n",
        "    train_stan_new.append(new_sen)"
      ]
    },
    {
      "cell_type": "code",
      "execution_count": 22,
      "id": "631223d0",
      "metadata": {
        "id": "631223d0",
        "colab": {
          "base_uri": "https://localhost:8080/"
        },
        "outputId": "44dadacf-bc6b-4ea7-8b8b-abae153a56f3"
      },
      "outputs": [
        {
          "output_type": "stream",
          "name": "stderr",
          "text": [
            "100%|██████████| 2398367/2398367 [00:07<00:00, 310683.14it/s]\n"
          ]
        }
      ],
      "source": [
        "train_dialect_new = []\n",
        "for dialect in tqdm(train[\"dialect\"]):\n",
        "    new_sen = re.sub(\"\\&name\\d*\\&\",\"{이름}\",str(dialect)) # &name&을 {이름}으로 바꾸기\n",
        "    new_sen = re.sub(\"\\&address\\d*\\&\",\"{주소}\", new_sen) # &address&을 {주소}로 바꾸기\n",
        "    train_dialect_new.append(new_sen)"
      ]
    },
    {
      "cell_type": "code",
      "execution_count": 23,
      "id": "7f69eae7",
      "metadata": {
        "id": "7f69eae7",
        "colab": {
          "base_uri": "https://localhost:8080/"
        },
        "outputId": "84eefacb-f47f-4b02-ad8a-537b1951f02a"
      },
      "outputs": [
        {
          "output_type": "stream",
          "name": "stderr",
          "text": [
            "100%|██████████| 297173/297173 [00:00<00:00, 328326.79it/s]\n"
          ]
        }
      ],
      "source": [
        "# validation set 전처리\n",
        "val_stan_new = []\n",
        "for standard in tqdm(validation[\"standard\"]):\n",
        "    new_sen = re.sub(\"\\&name\\d*\\&\",\"{이름}\",str(standard)) # &name&을 {이름}으로 바꾸기\n",
        "    new_sen = re.sub(\"\\&address\\d*\\&\",\"{주소}\", new_sen) # &address&을 {주소}로 바꾸기\n",
        "    val_stan_new.append(new_sen)"
      ]
    },
    {
      "cell_type": "code",
      "execution_count": 24,
      "id": "ecc3686c",
      "metadata": {
        "id": "ecc3686c",
        "colab": {
          "base_uri": "https://localhost:8080/"
        },
        "outputId": "ba49652d-108d-444d-c5f4-3407489f69a2"
      },
      "outputs": [
        {
          "output_type": "stream",
          "name": "stderr",
          "text": [
            "100%|██████████| 297173/297173 [00:00<00:00, 328032.23it/s]\n"
          ]
        }
      ],
      "source": [
        "val_dialect_new = []\n",
        "for dialect in tqdm(validation[\"dialect\"]):\n",
        "    new_sen = re.sub(\"\\&name\\d*\\&\",\"{이름}\",str(dialect)) # &name&을 {이름}으로 바꾸기\n",
        "    new_sen = re.sub(\"\\&address\\d*\\&\",\"{주소}\", new_sen) # &address&을 {주소}로 바꾸기\n",
        "    val_dialect_new.append(new_sen)"
      ]
    },
    {
      "cell_type": "code",
      "execution_count": 25,
      "id": "30659ff3",
      "metadata": {
        "id": "30659ff3",
        "colab": {
          "base_uri": "https://localhost:8080/"
        },
        "outputId": "862f0f65-f407-4a61-9b85-44f381c263e3"
      },
      "outputs": [
        {
          "output_type": "stream",
          "name": "stderr",
          "text": [
            "100%|██████████| 2398367/2398367 [00:04<00:00, 512914.03it/s]\n",
            "100%|██████████| 2398367/2398367 [00:04<00:00, 527562.41it/s]\n",
            "100%|██████████| 297173/297173 [00:00<00:00, 518216.45it/s]\n",
            "100%|██████████| 297173/297173 [00:00<00:00, 532877.67it/s]\n"
          ]
        }
      ],
      "source": [
        "# 3. 그 외 전처리(괄호 제거 등)\n",
        "\n",
        "# training --> train_stan_new train_dialect_new\n",
        "train_standard = []\n",
        "train_dialect = []\n",
        "for standard in tqdm(train_stan_new):\n",
        "    new_standard = re.sub(\"[^ㄱ-ㅎ ㅏ-ㅣ 가-힣]\",\"\",standard)\n",
        "    train_standard.append(new_standard)\n",
        "\n",
        "for dialect in tqdm(train_dialect_new):\n",
        "    new_dialect = re.sub(\"[^ㄱ-ㅎ ㅏ-ㅣ 가-힣]\",\"\",dialect)\n",
        "    train_dialect.append(new_dialect)\n",
        "\n",
        "#validation --> val_stan_new  val_dialect_new\n",
        "val_standard = []\n",
        "val_dialect = []\n",
        "for standard in tqdm(val_stan_new):\n",
        "    new_standard = re.sub(\"[^ㄱ-ㅎ ㅏ-ㅣ 가-힣]\",\"\",standard)\n",
        "    val_standard.append(new_standard)\n",
        "\n",
        "for dialect in tqdm(val_dialect_new):\n",
        "    new_dialect = re.sub(\"[^ㄱ-ㅎ ㅏ-ㅣ 가-힣]\",\"\",dialect)\n",
        "    val_dialect.append(new_dialect)"
      ]
    },
    {
      "cell_type": "code",
      "execution_count": 26,
      "id": "4160423d",
      "metadata": {
        "id": "4160423d"
      },
      "outputs": [],
      "source": [
        "train[\"standard\"] = train_standard\n",
        "train[\"dialect\"] = train_dialect\n",
        "\n",
        "validation[\"standard\"] = val_standard\n",
        "validation[\"dialect\"] = val_dialect\n",
        "\n",
        "# 임시로 저장\n",
        "\n",
        "# train set을 csv로 저장\n",
        "train.to_csv(\"전처리된_AI_HUB_data/Train/전처리된_AI_hub_train.csv\", index = False, encoding = \"utf-8-sig\")\n",
        "\n",
        "# validation set을 csv로 저장\n",
        "validation.to_csv(\"전처리된_AI_HUB_data/Val/전처리된_AI_hub_val.csv\", index = False, encoding = \"utf-8-sig\")"
      ]
    },
    {
      "cell_type": "code",
      "source": [
        "train[:10]"
      ],
      "metadata": {
        "colab": {
          "base_uri": "https://localhost:8080/",
          "height": 363
        },
        "id": "ataEFxG6sE7T",
        "outputId": "dd7221b5-eb3d-41ad-aef0-98dce9e382e7"
      },
      "id": "ataEFxG6sE7T",
      "execution_count": 27,
      "outputs": [
        {
          "output_type": "execute_result",
          "data": {
            "text/plain": [
              "                   standard                   dialect\n",
              "0                  저는 이름입니다                  저는 이름입니다\n",
              "1                  저는 이름입니다                  저는 이름입니다\n",
              "2  오늘 주제가 아까 뭐 자동차나 오토바이였는데  오늘 주제가 아까 뭐 자동차나 오토바이였는데\n",
              "3                  이름씨 오토바이                  이름씨 오토바이\n",
              "4         뭐 어떻게 좀 몰아봤어요 아니면          뭐 어떵 좀 몰아봐수과 아니면\n",
              "5                   저 오토바이는                   저 오토바이는\n",
              "6                         응                         응\n",
              "7                    다시 할게요                    다시 할게요\n",
              "8                  제가 오토바이는                  제가 오토바이는\n",
              "9                        제가                        제가"
            ],
            "text/html": [
              "\n",
              "  <div id=\"df-7637ef41-3112-4c99-a5a0-31ba4091f82e\">\n",
              "    <div class=\"colab-df-container\">\n",
              "      <div>\n",
              "<style scoped>\n",
              "    .dataframe tbody tr th:only-of-type {\n",
              "        vertical-align: middle;\n",
              "    }\n",
              "\n",
              "    .dataframe tbody tr th {\n",
              "        vertical-align: top;\n",
              "    }\n",
              "\n",
              "    .dataframe thead th {\n",
              "        text-align: right;\n",
              "    }\n",
              "</style>\n",
              "<table border=\"1\" class=\"dataframe\">\n",
              "  <thead>\n",
              "    <tr style=\"text-align: right;\">\n",
              "      <th></th>\n",
              "      <th>standard</th>\n",
              "      <th>dialect</th>\n",
              "    </tr>\n",
              "  </thead>\n",
              "  <tbody>\n",
              "    <tr>\n",
              "      <th>0</th>\n",
              "      <td>저는 이름입니다</td>\n",
              "      <td>저는 이름입니다</td>\n",
              "    </tr>\n",
              "    <tr>\n",
              "      <th>1</th>\n",
              "      <td>저는 이름입니다</td>\n",
              "      <td>저는 이름입니다</td>\n",
              "    </tr>\n",
              "    <tr>\n",
              "      <th>2</th>\n",
              "      <td>오늘 주제가 아까 뭐 자동차나 오토바이였는데</td>\n",
              "      <td>오늘 주제가 아까 뭐 자동차나 오토바이였는데</td>\n",
              "    </tr>\n",
              "    <tr>\n",
              "      <th>3</th>\n",
              "      <td>이름씨 오토바이</td>\n",
              "      <td>이름씨 오토바이</td>\n",
              "    </tr>\n",
              "    <tr>\n",
              "      <th>4</th>\n",
              "      <td>뭐 어떻게 좀 몰아봤어요 아니면</td>\n",
              "      <td>뭐 어떵 좀 몰아봐수과 아니면</td>\n",
              "    </tr>\n",
              "    <tr>\n",
              "      <th>5</th>\n",
              "      <td>저 오토바이는</td>\n",
              "      <td>저 오토바이는</td>\n",
              "    </tr>\n",
              "    <tr>\n",
              "      <th>6</th>\n",
              "      <td>응</td>\n",
              "      <td>응</td>\n",
              "    </tr>\n",
              "    <tr>\n",
              "      <th>7</th>\n",
              "      <td>다시 할게요</td>\n",
              "      <td>다시 할게요</td>\n",
              "    </tr>\n",
              "    <tr>\n",
              "      <th>8</th>\n",
              "      <td>제가 오토바이는</td>\n",
              "      <td>제가 오토바이는</td>\n",
              "    </tr>\n",
              "    <tr>\n",
              "      <th>9</th>\n",
              "      <td>제가</td>\n",
              "      <td>제가</td>\n",
              "    </tr>\n",
              "  </tbody>\n",
              "</table>\n",
              "</div>\n",
              "      <button class=\"colab-df-convert\" onclick=\"convertToInteractive('df-7637ef41-3112-4c99-a5a0-31ba4091f82e')\"\n",
              "              title=\"Convert this dataframe to an interactive table.\"\n",
              "              style=\"display:none;\">\n",
              "        \n",
              "  <svg xmlns=\"http://www.w3.org/2000/svg\" height=\"24px\"viewBox=\"0 0 24 24\"\n",
              "       width=\"24px\">\n",
              "    <path d=\"M0 0h24v24H0V0z\" fill=\"none\"/>\n",
              "    <path d=\"M18.56 5.44l.94 2.06.94-2.06 2.06-.94-2.06-.94-.94-2.06-.94 2.06-2.06.94zm-11 1L8.5 8.5l.94-2.06 2.06-.94-2.06-.94L8.5 2.5l-.94 2.06-2.06.94zm10 10l.94 2.06.94-2.06 2.06-.94-2.06-.94-.94-2.06-.94 2.06-2.06.94z\"/><path d=\"M17.41 7.96l-1.37-1.37c-.4-.4-.92-.59-1.43-.59-.52 0-1.04.2-1.43.59L10.3 9.45l-7.72 7.72c-.78.78-.78 2.05 0 2.83L4 21.41c.39.39.9.59 1.41.59.51 0 1.02-.2 1.41-.59l7.78-7.78 2.81-2.81c.8-.78.8-2.07 0-2.86zM5.41 20L4 18.59l7.72-7.72 1.47 1.35L5.41 20z\"/>\n",
              "  </svg>\n",
              "      </button>\n",
              "      \n",
              "  <style>\n",
              "    .colab-df-container {\n",
              "      display:flex;\n",
              "      flex-wrap:wrap;\n",
              "      gap: 12px;\n",
              "    }\n",
              "\n",
              "    .colab-df-convert {\n",
              "      background-color: #E8F0FE;\n",
              "      border: none;\n",
              "      border-radius: 50%;\n",
              "      cursor: pointer;\n",
              "      display: none;\n",
              "      fill: #1967D2;\n",
              "      height: 32px;\n",
              "      padding: 0 0 0 0;\n",
              "      width: 32px;\n",
              "    }\n",
              "\n",
              "    .colab-df-convert:hover {\n",
              "      background-color: #E2EBFA;\n",
              "      box-shadow: 0px 1px 2px rgba(60, 64, 67, 0.3), 0px 1px 3px 1px rgba(60, 64, 67, 0.15);\n",
              "      fill: #174EA6;\n",
              "    }\n",
              "\n",
              "    [theme=dark] .colab-df-convert {\n",
              "      background-color: #3B4455;\n",
              "      fill: #D2E3FC;\n",
              "    }\n",
              "\n",
              "    [theme=dark] .colab-df-convert:hover {\n",
              "      background-color: #434B5C;\n",
              "      box-shadow: 0px 1px 3px 1px rgba(0, 0, 0, 0.15);\n",
              "      filter: drop-shadow(0px 1px 2px rgba(0, 0, 0, 0.3));\n",
              "      fill: #FFFFFF;\n",
              "    }\n",
              "  </style>\n",
              "\n",
              "      <script>\n",
              "        const buttonEl =\n",
              "          document.querySelector('#df-7637ef41-3112-4c99-a5a0-31ba4091f82e button.colab-df-convert');\n",
              "        buttonEl.style.display =\n",
              "          google.colab.kernel.accessAllowed ? 'block' : 'none';\n",
              "\n",
              "        async function convertToInteractive(key) {\n",
              "          const element = document.querySelector('#df-7637ef41-3112-4c99-a5a0-31ba4091f82e');\n",
              "          const dataTable =\n",
              "            await google.colab.kernel.invokeFunction('convertToInteractive',\n",
              "                                                     [key], {});\n",
              "          if (!dataTable) return;\n",
              "\n",
              "          const docLinkHtml = 'Like what you see? Visit the ' +\n",
              "            '<a target=\"_blank\" href=https://colab.research.google.com/notebooks/data_table.ipynb>data table notebook</a>'\n",
              "            + ' to learn more about interactive tables.';\n",
              "          element.innerHTML = '';\n",
              "          dataTable['output_type'] = 'display_data';\n",
              "          await google.colab.output.renderOutput(dataTable, element);\n",
              "          const docLink = document.createElement('div');\n",
              "          docLink.innerHTML = docLinkHtml;\n",
              "          element.appendChild(docLink);\n",
              "        }\n",
              "      </script>\n",
              "    </div>\n",
              "  </div>\n",
              "  "
            ]
          },
          "metadata": {},
          "execution_count": 27
        }
      ]
    },
    {
      "cell_type": "code",
      "source": [
        "validation[:10]"
      ],
      "metadata": {
        "colab": {
          "base_uri": "https://localhost:8080/",
          "height": 363
        },
        "id": "EpNWKi7NsWZk",
        "outputId": "e86cfcd3-22e9-4bc9-af39-df11ad76dab1"
      },
      "id": "EpNWKi7NsWZk",
      "execution_count": 28,
      "outputs": [
        {
          "output_type": "execute_result",
          "data": {
            "text/plain": [
              "                                            standard  \\\n",
              "0                                            십이 월 삼십   \n",
              "1                                                 이름   \n",
              "2                              이름 이름 오 회차 녹음 시작하겠습니다   \n",
              "3                                  네 며칠 전에 저기  음식점니깐   \n",
              "4       그리 해버려서 평범한 거기 이름씨가 처음에는 누군지 몰라서 보다는 화랑 아이고    \n",
              "5                                사돈이이었다 허머 그다음 또 할머니   \n",
              "6          그 당시에 호응이 커 옛날 어른들이 여자는 글을 아는 어른들이 몇 없었는데   \n",
              "7       우리 할머니하고 누구하고  그냥 막 추 그려내 기분 좋아라 이다 안에 거기 우리   \n",
              "8                           이름 시삼촌의 사촌이기도 하지만은 막 그래서   \n",
              "9  니 얘기 들었는데 나도 기분 좋아서 먹고 하다 한번 어디 거기로가서 어머니한테 해 ...   \n",
              "\n",
              "                                             dialect  \n",
              "0                                            십이 월 삼십  \n",
              "1                                                 이름  \n",
              "2                              이름 이름 오 회차 녹음 시작하겠습니다  \n",
              "3                                  네 며칠 전에 저기  음식점니깐  \n",
              "4          경 부난 평범한 거기 이름씨가 처음에는 누군지 몰라니 보다는 화랑 아이고   \n",
              "5                                 사둔이추계 허머 그다음 또 할머니  \n",
              "6          그 당시에 호응이 커 옛날 어른들이 여자는 글을 아는 어른들이 몇 어서신디  \n",
              "7       우리 할머니하고 누구하고  그냥 막 추 그려내 기분 좋아라 수다 안에 거기 우리  \n",
              "8                             이름 삼춘의 소춘이기도 하지만은 막 게라  \n",
              "9  니 얘기 드르먼게 나도 기분 좋았단 먹고 하다 한번 어디 그리가겐 어머니한테 해 다니셨죠  "
            ],
            "text/html": [
              "\n",
              "  <div id=\"df-1f812245-7e54-478e-aad4-553be0dbc594\">\n",
              "    <div class=\"colab-df-container\">\n",
              "      <div>\n",
              "<style scoped>\n",
              "    .dataframe tbody tr th:only-of-type {\n",
              "        vertical-align: middle;\n",
              "    }\n",
              "\n",
              "    .dataframe tbody tr th {\n",
              "        vertical-align: top;\n",
              "    }\n",
              "\n",
              "    .dataframe thead th {\n",
              "        text-align: right;\n",
              "    }\n",
              "</style>\n",
              "<table border=\"1\" class=\"dataframe\">\n",
              "  <thead>\n",
              "    <tr style=\"text-align: right;\">\n",
              "      <th></th>\n",
              "      <th>standard</th>\n",
              "      <th>dialect</th>\n",
              "    </tr>\n",
              "  </thead>\n",
              "  <tbody>\n",
              "    <tr>\n",
              "      <th>0</th>\n",
              "      <td>십이 월 삼십</td>\n",
              "      <td>십이 월 삼십</td>\n",
              "    </tr>\n",
              "    <tr>\n",
              "      <th>1</th>\n",
              "      <td>이름</td>\n",
              "      <td>이름</td>\n",
              "    </tr>\n",
              "    <tr>\n",
              "      <th>2</th>\n",
              "      <td>이름 이름 오 회차 녹음 시작하겠습니다</td>\n",
              "      <td>이름 이름 오 회차 녹음 시작하겠습니다</td>\n",
              "    </tr>\n",
              "    <tr>\n",
              "      <th>3</th>\n",
              "      <td>네 며칠 전에 저기  음식점니깐</td>\n",
              "      <td>네 며칠 전에 저기  음식점니깐</td>\n",
              "    </tr>\n",
              "    <tr>\n",
              "      <th>4</th>\n",
              "      <td>그리 해버려서 평범한 거기 이름씨가 처음에는 누군지 몰라서 보다는 화랑 아이고</td>\n",
              "      <td>경 부난 평범한 거기 이름씨가 처음에는 누군지 몰라니 보다는 화랑 아이고</td>\n",
              "    </tr>\n",
              "    <tr>\n",
              "      <th>5</th>\n",
              "      <td>사돈이이었다 허머 그다음 또 할머니</td>\n",
              "      <td>사둔이추계 허머 그다음 또 할머니</td>\n",
              "    </tr>\n",
              "    <tr>\n",
              "      <th>6</th>\n",
              "      <td>그 당시에 호응이 커 옛날 어른들이 여자는 글을 아는 어른들이 몇 없었는데</td>\n",
              "      <td>그 당시에 호응이 커 옛날 어른들이 여자는 글을 아는 어른들이 몇 어서신디</td>\n",
              "    </tr>\n",
              "    <tr>\n",
              "      <th>7</th>\n",
              "      <td>우리 할머니하고 누구하고  그냥 막 추 그려내 기분 좋아라 이다 안에 거기 우리</td>\n",
              "      <td>우리 할머니하고 누구하고  그냥 막 추 그려내 기분 좋아라 수다 안에 거기 우리</td>\n",
              "    </tr>\n",
              "    <tr>\n",
              "      <th>8</th>\n",
              "      <td>이름 시삼촌의 사촌이기도 하지만은 막 그래서</td>\n",
              "      <td>이름 삼춘의 소춘이기도 하지만은 막 게라</td>\n",
              "    </tr>\n",
              "    <tr>\n",
              "      <th>9</th>\n",
              "      <td>니 얘기 들었는데 나도 기분 좋아서 먹고 하다 한번 어디 거기로가서 어머니한테 해 ...</td>\n",
              "      <td>니 얘기 드르먼게 나도 기분 좋았단 먹고 하다 한번 어디 그리가겐 어머니한테 해 다니셨죠</td>\n",
              "    </tr>\n",
              "  </tbody>\n",
              "</table>\n",
              "</div>\n",
              "      <button class=\"colab-df-convert\" onclick=\"convertToInteractive('df-1f812245-7e54-478e-aad4-553be0dbc594')\"\n",
              "              title=\"Convert this dataframe to an interactive table.\"\n",
              "              style=\"display:none;\">\n",
              "        \n",
              "  <svg xmlns=\"http://www.w3.org/2000/svg\" height=\"24px\"viewBox=\"0 0 24 24\"\n",
              "       width=\"24px\">\n",
              "    <path d=\"M0 0h24v24H0V0z\" fill=\"none\"/>\n",
              "    <path d=\"M18.56 5.44l.94 2.06.94-2.06 2.06-.94-2.06-.94-.94-2.06-.94 2.06-2.06.94zm-11 1L8.5 8.5l.94-2.06 2.06-.94-2.06-.94L8.5 2.5l-.94 2.06-2.06.94zm10 10l.94 2.06.94-2.06 2.06-.94-2.06-.94-.94-2.06-.94 2.06-2.06.94z\"/><path d=\"M17.41 7.96l-1.37-1.37c-.4-.4-.92-.59-1.43-.59-.52 0-1.04.2-1.43.59L10.3 9.45l-7.72 7.72c-.78.78-.78 2.05 0 2.83L4 21.41c.39.39.9.59 1.41.59.51 0 1.02-.2 1.41-.59l7.78-7.78 2.81-2.81c.8-.78.8-2.07 0-2.86zM5.41 20L4 18.59l7.72-7.72 1.47 1.35L5.41 20z\"/>\n",
              "  </svg>\n",
              "      </button>\n",
              "      \n",
              "  <style>\n",
              "    .colab-df-container {\n",
              "      display:flex;\n",
              "      flex-wrap:wrap;\n",
              "      gap: 12px;\n",
              "    }\n",
              "\n",
              "    .colab-df-convert {\n",
              "      background-color: #E8F0FE;\n",
              "      border: none;\n",
              "      border-radius: 50%;\n",
              "      cursor: pointer;\n",
              "      display: none;\n",
              "      fill: #1967D2;\n",
              "      height: 32px;\n",
              "      padding: 0 0 0 0;\n",
              "      width: 32px;\n",
              "    }\n",
              "\n",
              "    .colab-df-convert:hover {\n",
              "      background-color: #E2EBFA;\n",
              "      box-shadow: 0px 1px 2px rgba(60, 64, 67, 0.3), 0px 1px 3px 1px rgba(60, 64, 67, 0.15);\n",
              "      fill: #174EA6;\n",
              "    }\n",
              "\n",
              "    [theme=dark] .colab-df-convert {\n",
              "      background-color: #3B4455;\n",
              "      fill: #D2E3FC;\n",
              "    }\n",
              "\n",
              "    [theme=dark] .colab-df-convert:hover {\n",
              "      background-color: #434B5C;\n",
              "      box-shadow: 0px 1px 3px 1px rgba(0, 0, 0, 0.15);\n",
              "      filter: drop-shadow(0px 1px 2px rgba(0, 0, 0, 0.3));\n",
              "      fill: #FFFFFF;\n",
              "    }\n",
              "  </style>\n",
              "\n",
              "      <script>\n",
              "        const buttonEl =\n",
              "          document.querySelector('#df-1f812245-7e54-478e-aad4-553be0dbc594 button.colab-df-convert');\n",
              "        buttonEl.style.display =\n",
              "          google.colab.kernel.accessAllowed ? 'block' : 'none';\n",
              "\n",
              "        async function convertToInteractive(key) {\n",
              "          const element = document.querySelector('#df-1f812245-7e54-478e-aad4-553be0dbc594');\n",
              "          const dataTable =\n",
              "            await google.colab.kernel.invokeFunction('convertToInteractive',\n",
              "                                                     [key], {});\n",
              "          if (!dataTable) return;\n",
              "\n",
              "          const docLinkHtml = 'Like what you see? Visit the ' +\n",
              "            '<a target=\"_blank\" href=https://colab.research.google.com/notebooks/data_table.ipynb>data table notebook</a>'\n",
              "            + ' to learn more about interactive tables.';\n",
              "          element.innerHTML = '';\n",
              "          dataTable['output_type'] = 'display_data';\n",
              "          await google.colab.output.renderOutput(dataTable, element);\n",
              "          const docLink = document.createElement('div');\n",
              "          docLink.innerHTML = docLinkHtml;\n",
              "          element.appendChild(docLink);\n",
              "        }\n",
              "      </script>\n",
              "    </div>\n",
              "  </div>\n",
              "  "
            ]
          },
          "metadata": {},
          "execution_count": 28
        }
      ]
    }
  ],
  "metadata": {
    "kernelspec": {
      "display_name": "Python 3 (ipykernel)",
      "language": "python",
      "name": "python3"
    },
    "language_info": {
      "codemirror_mode": {
        "name": "ipython",
        "version": 3
      },
      "file_extension": ".py",
      "mimetype": "text/x-python",
      "name": "python",
      "nbconvert_exporter": "python",
      "pygments_lexer": "ipython3",
      "version": "3.10.0b3"
    },
    "colab": {
      "name": "aihub_preprocessing.ipynb",
      "provenance": [],
      "collapsed_sections": []
    }
  },
  "nbformat": 4,
  "nbformat_minor": 5
}
